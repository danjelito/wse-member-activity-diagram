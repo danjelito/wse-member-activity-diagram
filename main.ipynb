{
 "cells": [
  {
   "cell_type": "code",
   "execution_count": 27,
   "metadata": {},
   "outputs": [],
   "source": [
    "# this is after (GO) 2023-02-08"
   ]
  },
  {
   "attachments": {},
   "cell_type": "markdown",
   "metadata": {},
   "source": [
    "# Load DF"
   ]
  },
  {
   "cell_type": "code",
   "execution_count": 28,
   "metadata": {},
   "outputs": [],
   "source": [
    "import pandas as pd\n",
    "import numpy as np\n",
    "import config"
   ]
  },
  {
   "cell_type": "code",
   "execution_count": 29,
   "metadata": {},
   "outputs": [
    {
     "name": "stdout",
     "output_type": "stream",
     "text": [
      "Month: 12\n",
      "Total member: 4016.0\n",
      "Deluxe member: 2474.0\n",
      "VIP member: 258.0\n",
      "GO member: 1284.0\n"
     ]
    }
   ],
   "source": [
    "# specify number of member\n",
    "\n",
    "df_count = pd.read_excel(config.path_member_count, sheet_name=\"Data - After Migration\")\n",
    "df_count.columns = df_count.columns.str.lower().str.replace(\" \", \"_\")\n",
    "df_count[\"year\"] = df_count[\"month\"].dt.year\n",
    "df_count[\"month\"] = df_count[\"month\"].dt.month\n",
    "\n",
    "# ! if exclude cpt, use number without cpt\n",
    "date_mask = (df_count[\"month\"] == config.month_num) & (df_count[\"year\"] == config.year)\n",
    "if config.exclude_cpt:\n",
    "    num_member = df_count.loc[date_mask, \"total_member_without_cpt\"].values[0]\n",
    "    num_member_dlx = df_count.loc[date_mask, \"number_member_del_without_cpt\"].values[0]\n",
    "    num_member_vip = df_count.loc[date_mask, \"number_member_vip_without_cpt\"].values[0]\n",
    "    num_member_go = df_count.loc[date_mask, \"number_member_go_without_cpt\"].values[0]\n",
    "else:\n",
    "    num_member = df_count.loc[date_mask, \"total_member\"].values[0]\n",
    "    num_member_dlx = df_count.loc[date_mask, \"number_member_del\"].values[0]\n",
    "    num_member_vip = df_count.loc[date_mask, \"number_member_vip\"].values[0]\n",
    "    num_member_go = df_count.loc[date_mask, \"number_member_go\"].values[0]\n",
    "\n",
    "df_month = df_count.loc[date_mask, \"month\"].values[0]\n",
    "print(f\"Month: {df_month}\")\n",
    "print(f\"Total member: {num_member}\")\n",
    "print(f\"Deluxe member: {num_member_dlx}\")\n",
    "print(f\"VIP member: {num_member_vip}\")\n",
    "print(f\"GO member: {num_member_go}\")"
   ]
  },
  {
   "cell_type": "code",
   "execution_count": 30,
   "metadata": {},
   "outputs": [],
   "source": [
    "# load and clean df att\n",
    "df_att_ori = pd.read_excel(config.path_att)\n",
    "df_att = df_att_ori.copy()\n",
    "df_att = (df_att\n",
    "    # exclude unattendance\n",
    "    .loc[df_att[\"student_attendance\"] == \"Attend\"]  \n",
    "    # exclude GOC for vip\n",
    "    .loc[lambda df_:  ~((df_[\"class_type\"] == \"GOC\") & (df_[\"student_membership\"] == \"VIP\"))]\n",
    ")\n",
    "# note: if exclude cpt, take out cpt student\n",
    "if config.exclude_cpt:\n",
    "    df_att = df_att.loc[~(df_att[\"student_code\"].str.lower().str.contains(\"cpt\"))]"
   ]
  },
  {
   "cell_type": "code",
   "execution_count": 31,
   "metadata": {},
   "outputs": [],
   "source": [
    "# load and clean df session\n",
    "path_sess = str(config.path_att).replace(\"data attendance\", \"data session\")\n",
    "df_sess = pd.read_excel(path_sess)\n",
    "# note: exclude GOC for vip\n",
    "df_sess = df_sess.loc[\n",
    "    ~((df_sess[\"class_type_grouped\"] == \"GOC\") & (df_sess[\"class_service\"] == \"VIP\"))\n",
    "]"
   ]
  },
  {
   "attachments": {},
   "cell_type": "markdown",
   "metadata": {},
   "source": [
    "# Calculation"
   ]
  },
  {
   "cell_type": "code",
   "execution_count": 32,
   "metadata": {},
   "outputs": [],
   "source": [
    "# level 1: go vip del\n",
    "\n",
    "perc_go = round(((num_member_go / num_member) * 100), 0)\n",
    "perc_dlx = round(((num_member_dlx / num_member) * 100), 0)\n",
    "perc_vip = round(((num_member_vip / num_member) * 100), 0)"
   ]
  },
  {
   "cell_type": "code",
   "execution_count": 33,
   "metadata": {},
   "outputs": [],
   "source": [
    "# level 2: active inactive\n",
    "\n",
    "# vip\n",
    "num_vip_ac = df_att.loc[\n",
    "    (df_att[\"student_membership\"] == \"VIP\"), \"student_code\"\n",
    "].nunique()\n",
    "num_vip_in = num_member_vip - num_vip_ac\n",
    "perc_vip_ac = round(((num_vip_ac / num_member_vip) * 100), 0)\n",
    "perc_vip_in = round(((num_vip_in / num_member_vip) * 100), 0)\n",
    "\n",
    "# deluxe\n",
    "num_dlx_ac = df_att.loc[\n",
    "    (df_att[\"student_membership\"] == \"Deluxe\"), \"student_code\"\n",
    "].nunique()\n",
    "num_dlx_in = num_member_dlx - num_dlx_ac\n",
    "perc_dlx_ac = round(((num_dlx_ac / num_member_dlx) * 100), 0)\n",
    "perc_dlx_in = round(((num_dlx_in / num_member_dlx) * 100), 0)\n",
    "\n",
    "# go\n",
    "num_go_ac = df_att.loc[(df_att[\"student_membership\"] == \"GO\"), \"student_code\"].nunique()\n",
    "num_go_in = num_member_go - num_go_ac\n",
    "perc_go_ac = round(((num_go_ac / num_member_go) * 100), 0)\n",
    "perc_go_in = round(((num_go_in / num_member_go) * 100), 0)"
   ]
  },
  {
   "cell_type": "code",
   "execution_count": 34,
   "metadata": {},
   "outputs": [],
   "source": [
    "# level 3: eligible for online\n",
    "# starting from july, no need to find num_online\n",
    "num_onl = num_dlx_ac + num_go_ac"
   ]
  },
  {
   "cell_type": "code",
   "execution_count": 35,
   "metadata": {},
   "outputs": [],
   "source": [
    "# level 4: vip one on one vs vpg\n",
    "\n",
    "df_vip = (\n",
    "    df_sess.loc[df_sess[\"class_service\"] == \"VIP\"]\n",
    "    .assign(\n",
    "        class_type_grouped=lambda df_: df_[\"class_type_grouped\"]\n",
    "        .str.replace(\"Offline \", \"\")\n",
    "        .str.replace(\"Online \", \"\")\n",
    "    )\n",
    "    .groupby(\"class_type_grouped\")\n",
    "    .agg(count=(\"class_type_grouped\", \"size\"))\n",
    ")"
   ]
  },
  {
   "cell_type": "code",
   "execution_count": 36,
   "metadata": {},
   "outputs": [],
   "source": [
    "def catchstate(df, var_name: str) -> \"pd.DataFrame\":\n",
    "    \"\"\"\n",
    "    Helper function that captures intermediate Dataframes mid-chain.\n",
    "    In the global namespace, make a new variable called var_name and set it to dataframe\n",
    "    \"\"\"\n",
    "    globals()[var_name] = df\n",
    "    return df"
   ]
  },
  {
   "cell_type": "code",
   "execution_count": 37,
   "metadata": {},
   "outputs": [
    {
     "name": "stderr",
     "output_type": "stream",
     "text": [
      "/tmp/ipykernel_53880/525855635.py:22: FutureWarning: The default of observed=False is deprecated and will be changed to True in a future version of pandas. Pass observed=False to retain current behavior or observed=True to adopt the future default and silence this warning.\n",
      "  .groupby(['class_type', pd.cut(df_onl_go['count'], bins, right= False)])\n",
      "/tmp/ipykernel_53880/525855635.py:40: FutureWarning: The default of observed=False is deprecated and will be changed to True in a future version of pandas. Pass observed=False to retain current behavior or observed=True to adopt the future default and silence this warning.\n",
      "  .groupby(['class_type', pd.cut(df_onl_go['count'], bins, right= False)])\n",
      "/tmp/ipykernel_53880/525855635.py:58: FutureWarning: The default of observed=False is deprecated and will be changed to True in a future version of pandas. Pass observed=False to retain current behavior or observed=True to adopt the future default and silence this warning.\n",
      "  .groupby(['class_type', pd.cut(df_onl_go['count'], bins, right= False)])\n"
     ]
    }
   ],
   "source": [
    "# level 5: basket for online\n",
    "# ! GO\n",
    "\n",
    "# online\n",
    "df_onl_go = (df_att\n",
    "    .loc[(df_att['student_membership'] == 'GO') &\n",
    "        (df_att['class_mode'].isin(['Online', 'GOC'])) &\n",
    "        (df_att['class_type'].isin(['Online Encounter','Online Complementary', 'Online Social Club'])) \n",
    "    ]\n",
    "    .groupby(['class_type', 'student_code'])\n",
    "    .agg(\n",
    "        count= ('student_code', 'size')\n",
    "    )\n",
    "    .reset_index()\n",
    ")\n",
    "\n",
    "\n",
    "# enc\n",
    "bins = [0, 1, 3, 1_000_000]\n",
    "df_enc_go = (df_onl_go\n",
    "    .loc[df_onl_go['class_type'] == 'Online Encounter']\n",
    "    .groupby(['class_type', pd.cut(df_onl_go['count'], bins, right= False)])\n",
    "    .size()\n",
    "    .to_frame()\n",
    "    .rename({0: 'count'}, axis= 'columns')\n",
    "    .pipe(catchstate, var_name= \"df_catched\") # catch the current state of df at this point\n",
    "    .replace(\n",
    "        to_replace= 0,\n",
    "        value= num_go_ac - df_catched['count'].sum()\n",
    "    )\n",
    "    .assign(\n",
    "        perc= lambda x: round(((x['count'] / x['count'].sum()) * 100), 0)\n",
    "    )\n",
    ")\n",
    "\n",
    "# complementary\n",
    "bins = [0, 1, 4, 1_000_000]\n",
    "df_cc_go = (df_onl_go\n",
    "    .loc[df_onl_go['class_type'] == 'Online Complementary']\n",
    "    .groupby(['class_type', pd.cut(df_onl_go['count'], bins, right= False)])\n",
    "    .size()\n",
    "    .to_frame()\n",
    "    .rename({0: 'count'}, axis= 'columns')\n",
    "    .pipe(catchstate, var_name= \"df_catched\") # catch the current state of df at this point\n",
    "    .replace(\n",
    "        to_replace= 0,\n",
    "        value= num_go_ac - df_catched['count'].sum()\n",
    "    )\n",
    "    .assign(\n",
    "        perc= lambda x: round(((x['count'] / x['count'].sum()) * 100), 0)\n",
    "    )\n",
    ")\n",
    "\n",
    "# sc\n",
    "bins= [0, 1, 5, 1_000_000]\n",
    "df_sc_go = (df_onl_go\n",
    "    .loc[df_onl_go['class_type'] == 'Online Social Club']\n",
    "    .groupby(['class_type', pd.cut(df_onl_go['count'], bins, right= False)])\n",
    "    .size()\n",
    "    .to_frame()\n",
    "    .rename({0: 'count'}, axis= 'columns')\n",
    "    .pipe(catchstate, var_name= \"df_catched\") # catch the current state of df at this point\n",
    "    .replace(\n",
    "        to_replace= 0,\n",
    "        value= num_go_ac - df_catched['count'].sum()\n",
    "    )\n",
    "    .assign(\n",
    "        perc= lambda x: round(((x['count'] / x['count'].sum()) * 100), 0)\n",
    "    )\n",
    ")"
   ]
  },
  {
   "cell_type": "code",
   "execution_count": 38,
   "metadata": {},
   "outputs": [
    {
     "name": "stderr",
     "output_type": "stream",
     "text": [
      "/tmp/ipykernel_53880/1193344190.py:22: FutureWarning: The default of observed=False is deprecated and will be changed to True in a future version of pandas. Pass observed=False to retain current behavior or observed=True to adopt the future default and silence this warning.\n",
      "  .groupby(['class_type', pd.cut(df_onl_dlx['count'], bins, right= False)])\n",
      "/tmp/ipykernel_53880/1193344190.py:40: FutureWarning: The default of observed=False is deprecated and will be changed to True in a future version of pandas. Pass observed=False to retain current behavior or observed=True to adopt the future default and silence this warning.\n",
      "  .groupby(['class_type', pd.cut(df_onl_dlx['count'], bins, right= False)])\n",
      "/tmp/ipykernel_53880/1193344190.py:58: FutureWarning: The default of observed=False is deprecated and will be changed to True in a future version of pandas. Pass observed=False to retain current behavior or observed=True to adopt the future default and silence this warning.\n",
      "  .groupby(['class_type', pd.cut(df_onl_dlx['count'], bins, right= False)])\n"
     ]
    }
   ],
   "source": [
    "# level 5: basket for online\n",
    "# ! DLX\n",
    "\n",
    "# online\n",
    "df_onl_dlx = (df_att\n",
    "    .loc[(df_att['student_membership'] == 'Deluxe') &\n",
    "        (df_att['class_mode'].isin(['Online', 'GOC'])) &\n",
    "        (df_att['class_type'].isin(['Online Encounter','Online Complementary', 'Online Social Club'])) \n",
    "    ]\n",
    "    .groupby(['class_type', 'student_code'])\n",
    "    .agg(\n",
    "        count= ('student_code', 'size')\n",
    "    )\n",
    "    .reset_index()\n",
    ")\n",
    "\n",
    "\n",
    "# enc\n",
    "bins = [0, 1, 3, 1_000_000]\n",
    "df_enc_dlx = (df_onl_dlx\n",
    "    .loc[df_onl_dlx['class_type'] == 'Online Encounter']\n",
    "    .groupby(['class_type', pd.cut(df_onl_dlx['count'], bins, right= False)])\n",
    "    .size()\n",
    "    .to_frame()\n",
    "    .rename({0: 'count'}, axis= 'columns')\n",
    "    .pipe(catchstate, var_name= \"df_catched\") # catch the current state of df at this point\n",
    "    .replace(\n",
    "        to_replace= 0,\n",
    "        value= num_dlx_ac - df_catched['count'].sum()\n",
    "    )\n",
    "    .assign(\n",
    "        perc= lambda x: round(((x['count'] / x['count'].sum()) * 100), 0)\n",
    "    )\n",
    ")\n",
    "\n",
    "# complementary\n",
    "bins = [0, 1, 4, 1_000_000]\n",
    "df_cc_dlx = (df_onl_dlx\n",
    "    .loc[df_onl_dlx['class_type'] == 'Online Complementary']\n",
    "    .groupby(['class_type', pd.cut(df_onl_dlx['count'], bins, right= False)])\n",
    "    .size()\n",
    "    .to_frame()\n",
    "    .rename({0: 'count'}, axis= 'columns')\n",
    "    .pipe(catchstate, var_name= \"df_catched\") # catch the current state of df at this point\n",
    "    .replace(\n",
    "        to_replace= 0,\n",
    "        value= num_dlx_ac - df_catched['count'].sum()\n",
    "    )\n",
    "    .assign(\n",
    "        perc= lambda x: round(((x['count'] / x['count'].sum()) * 100), 0)\n",
    "    )\n",
    ")\n",
    "\n",
    "# sc\n",
    "bins = [0, 1, 5, 1_000_000]\n",
    "df_sc_dlx = (df_onl_dlx\n",
    "    .loc[df_onl_dlx['class_type'] == 'Online Social Club']\n",
    "    .groupby(['class_type', pd.cut(df_onl_dlx['count'], bins, right= False)])\n",
    "    .size()\n",
    "    .to_frame()\n",
    "    .rename({0: 'count'}, axis= 'columns')\n",
    "    .pipe(catchstate, var_name= \"df_catched\") # catch the current state of df at this point\n",
    "    .replace(\n",
    "        to_replace= 0,\n",
    "        value= num_dlx_ac - df_catched['count'].sum()\n",
    "    )\n",
    "    .assign(\n",
    "        perc= lambda x: round(((x['count'] / x['count'].sum()) * 100), 0)\n",
    "    )\n",
    ")"
   ]
  },
  {
   "cell_type": "code",
   "execution_count": 39,
   "metadata": {},
   "outputs": [],
   "source": [
    "# level 5: basket for incenter\n",
    "# ! DLX\n",
    "bin1 = 1\n",
    "bin2 = [2, 3]\n",
    "bin3 = list(range(4, 1_000_000))\n",
    "\n",
    "df_incenter = (\n",
    "    df_att.loc[\n",
    "        (df_att[\"class_mode\"] == \"Offline\") & (df_att[\"student_membership\"] != \"VIP\")\n",
    "    ]\n",
    "    .groupby(\"student_code\")\n",
    "    .agg(count=(\"student_code\", \"size\"))\n",
    "    .reset_index()\n",
    ")\n",
    "\n",
    "bin1 = sum(df_incenter[\"count\"] == bin1)\n",
    "bin2 = sum(df_incenter[\"count\"].isin(bin2))\n",
    "bin3 = sum(df_incenter[\"count\"].isin(bin3))\n",
    "bin0 = num_dlx_ac - bin1 - bin2 - bin3\n",
    "\n",
    "cols = [\"0\", \"1\", \"2-3\", \">=4\"]\n",
    "data = [bin0, bin1, bin2, bin3]\n",
    "index = [\"values\"]\n",
    "\n",
    "df_incenter = pd.DataFrame(data, cols)\n",
    "\n",
    "df_incenter = df_incenter.rename(columns={0: \"count\"}).assign(\n",
    "    perc=lambda df_: round(((df_[\"count\"] / df_[\"count\"].sum()) * 100), 0)\n",
    ")"
   ]
  },
  {
   "cell_type": "code",
   "execution_count": 40,
   "metadata": {},
   "outputs": [
    {
     "data": {
      "text/plain": [
       "Series([], Name: count, dtype: int64)"
      ]
     },
     "execution_count": 40,
     "metadata": {},
     "output_type": "execute_result"
    }
   ],
   "source": [
    "#check\n",
    "df_att.loc[\n",
    "    (df_att['student_code'] == ', SAMIRAH - jak05.05764.id'),\n",
    "    ['class_mode']\n",
    "    ].value_counts()"
   ]
  },
  {
   "cell_type": "code",
   "execution_count": 41,
   "metadata": {},
   "outputs": [],
   "source": [
    "# level 5: basket for vip\n",
    "\n",
    "df_vip_basket = (df_sess\n",
    "    .loc[df_sess['class_service'] == 'VIP']\n",
    "    .groupby('class_type_grouped')\n",
    "    .agg(\n",
    "        count= ('class_type_grouped', 'size')\n",
    "    )\n",
    "    .assign(\n",
    "        group= lambda df_: np.select(\n",
    "            condlist= [\n",
    "                df_.index.str.contains('VPG', regex= False), \n",
    "                df_.index.str.contains('Other', regex= False), \n",
    "            ],\n",
    "            choicelist= ['VPG', 'Other'],\n",
    "            default= '1:1'\n",
    "        ),\n",
    "        perc= lambda df_: round(((df_['count'] / df_.groupby('group')['count'].transform('sum')) * 100), 0)\n",
    "    )\n",
    ")"
   ]
  },
  {
   "attachments": {},
   "cell_type": "markdown",
   "metadata": {},
   "source": [
    "# Output"
   ]
  },
  {
   "cell_type": "code",
   "execution_count": 42,
   "metadata": {},
   "outputs": [
    {
     "name": "stdout",
     "output_type": "stream",
     "text": [
      "Number of members: 4016.0\n",
      "Number of GO: 1284.0\n",
      "Number of GO: 32.0\n",
      "Number of deluxe: 2474.0\n",
      "Number of deluxe: 62.0\n",
      "Number of VIP: 258.0\n",
      "Number of VIP: 6.0\n",
      "Check = True\n",
      "\n"
     ]
    }
   ],
   "source": [
    "# level 1 and 2\n",
    "\n",
    "print(f\"Number of members: {num_member}\")\n",
    "\n",
    "print(f\"Number of GO: {num_member_go}\")\n",
    "print(f\"Number of GO: {perc_go}\")\n",
    "\n",
    "print(f\"Number of deluxe: {num_member_dlx}\")\n",
    "print(f\"Number of deluxe: {perc_dlx}\")\n",
    "\n",
    "print(f\"Number of VIP: {num_member_vip}\")\n",
    "print(f\"Number of VIP: {perc_vip}\")\n",
    "\n",
    "print(\n",
    "    f\"\"\"Check = {\n",
    "    (num_member_go + num_member_dlx + num_member_vip == num_member) &\n",
    "    (perc_go + perc_dlx + perc_vip >= 99) & \n",
    "    (perc_go + perc_dlx + perc_vip <= 101)\n",
    "    }\n",
    "\"\"\"\n",
    ")"
   ]
  },
  {
   "cell_type": "code",
   "execution_count": 43,
   "metadata": {},
   "outputs": [
    {
     "name": "stdout",
     "output_type": "stream",
     "text": [
      "Number of GO: 1284.0\n",
      "\tNumber of active: 556\n",
      "\tPerc of active: 43.0\n",
      "\tNumber of inactive: 728.0\n",
      "\tPerc of inactive: 57.0\n",
      "Check = True\n",
      "\n",
      "\n",
      "Number of Deluxe: 2474.0\n",
      "\tNumber of active: 1184\n",
      "\tPerc of active: 48.0\n",
      "\tNumber of inactive: 1290.0\n",
      "\tPerc of inactive: 52.0\n",
      "Check = True\n",
      "\n",
      "\n",
      "Number of VIP: 258.0\n",
      "\tNumber of active: 175\n",
      "\tPerc of active: 68.0\n",
      "\tNumber of inactive: 83.0\n",
      "\tPerc of inactive: 32.0\n",
      "Check = True\n"
     ]
    }
   ],
   "source": [
    "# level 3\n",
    "\n",
    "# go\n",
    "print(f\"Number of GO: {num_member_go}\")\n",
    "\n",
    "print(f\"\\tNumber of active: {num_go_ac}\")\n",
    "print(f\"\\tPerc of active: {perc_go_ac}\")\n",
    "\n",
    "print(f\"\\tNumber of inactive: {num_go_in}\")\n",
    "print(f\"\\tPerc of inactive: {perc_go_in}\")\n",
    "\n",
    "print(\n",
    "    f\"Check = {(num_go_ac + num_go_in == num_member_go) & (perc_go_ac + perc_go_in == 100)}\"\n",
    ")\n",
    "print(\"\\n\")\n",
    "\n",
    "# dlc\n",
    "print(f\"Number of Deluxe: {num_member_dlx}\")\n",
    "\n",
    "print(f\"\\tNumber of active: {num_dlx_ac}\")\n",
    "print(f\"\\tPerc of active: {perc_dlx_ac}\")\n",
    "\n",
    "print(f\"\\tNumber of inactive: {num_dlx_in}\")\n",
    "print(f\"\\tPerc of inactive: {perc_dlx_in}\")\n",
    "\n",
    "print(\n",
    "    f\"Check = {(num_dlx_ac + num_dlx_in == num_member_dlx) & (perc_dlx_ac + perc_dlx_in == 100)}\"\n",
    ")\n",
    "print(\"\\n\")\n",
    "\n",
    "# vip\n",
    "print(f\"Number of VIP: {num_member_vip}\")\n",
    "\n",
    "print(f\"\\tNumber of active: {num_vip_ac}\")\n",
    "print(f\"\\tPerc of active: {perc_vip_ac}\")\n",
    "\n",
    "print(f\"\\tNumber of inactive: {num_vip_in}\")\n",
    "print(f\"\\tPerc of inactive: {perc_vip_in}\")\n",
    "\n",
    "print(\n",
    "    f\"Check = {(num_vip_ac + num_vip_in == num_member_vip) & (perc_vip_ac + perc_vip_in == 100)}\"\n",
    ")"
   ]
  },
  {
   "cell_type": "code",
   "execution_count": 44,
   "metadata": {},
   "outputs": [
    {
     "name": "stdout",
     "output_type": "stream",
     "text": [
      "                    count\n",
      "class_type_grouped       \n",
      "One-on-one            789\n",
      "VPG                   181\n",
      "\n",
      "num online: 1740\n",
      "\n",
      "Check = True\n"
     ]
    }
   ],
   "source": [
    "# level 4\n",
    "\n",
    "# vip one on one vs vpg\n",
    "print(df_vip)\n",
    "\n",
    "# num online\n",
    "print(f\"\\nnum online: {num_onl}\")\n",
    "print(f\"\\nCheck = {(num_go_ac + num_dlx_ac == num_onl)}\")"
   ]
  },
  {
   "cell_type": "code",
   "execution_count": 45,
   "metadata": {},
   "outputs": [
    {
     "name": "stdout",
     "output_type": "stream",
     "text": [
      "             class_type        basket  count  perc\n",
      "0      Online Encounter        [0, 1)    133  24.0\n",
      "1      Online Encounter        [1, 3)    385  69.0\n",
      "2      Online Encounter  [3, 1000000)     38   7.0\n",
      "0  Online Complementary        [0, 1)    229  41.0\n",
      "1  Online Complementary        [1, 4)    267  48.0\n",
      "2  Online Complementary  [4, 1000000)     60  11.0\n",
      "0    Online Social Club        [0, 1)    228  41.0\n",
      "1    Online Social Club        [1, 5)    222  40.0\n",
      "2    Online Social Club  [5, 1000000)    106  19.0\n",
      "\n",
      "Check\n",
      "                      count\n",
      "class_type                 \n",
      "Online Complementary    556\n",
      "Online Encounter        556\n",
      "Online Social Club      556\n",
      "should be the same with -> 556\n"
     ]
    }
   ],
   "source": [
    "# level 5: basket GO\n",
    "\n",
    "df_enc_go_clean = df_enc_go.rename_axis([\"class_type\", \"basket\"]).reset_index()\n",
    "df_cc_go_clean = df_cc_go.rename_axis([\"class_type\", \"basket\"]).reset_index()\n",
    "df_sc_go_clean = df_sc_go.rename_axis([\"class_type\", \"basket\"]).reset_index()\n",
    "result = pd.concat([df_enc_go_clean, df_cc_go_clean, df_sc_go_clean])\n",
    "\n",
    "print(result)\n",
    "\n",
    "print(\"\\nCheck\")\n",
    "print(result.groupby(\"class_type\").agg({\"count\": \"sum\"}))\n",
    "print(f\"should be the same with -> {num_go_ac}\")"
   ]
  },
  {
   "cell_type": "code",
   "execution_count": 46,
   "metadata": {},
   "outputs": [
    {
     "name": "stdout",
     "output_type": "stream",
     "text": [
      "             class_type        basket  count  perc\n",
      "0      Online Encounter        [0, 1)    480  41.0\n",
      "1      Online Encounter        [1, 3)    621  52.0\n",
      "2      Online Encounter  [3, 1000000)     83   7.0\n",
      "0  Online Complementary        [0, 1)    874  74.0\n",
      "1  Online Complementary        [1, 4)    283  24.0\n",
      "2  Online Complementary  [4, 1000000)     27   2.0\n",
      "0    Online Social Club        [0, 1)    810  68.0\n",
      "1    Online Social Club        [1, 5)    285  24.0\n",
      "2    Online Social Club  [5, 1000000)     89   8.0\n",
      "\n",
      "Check\n",
      "                      count\n",
      "class_type                 \n",
      "Online Complementary   1184\n",
      "Online Encounter       1184\n",
      "Online Social Club     1184\n",
      "should be the same with -> 1184\n"
     ]
    }
   ],
   "source": [
    "# level 5: basket DLX\n",
    "\n",
    "df_enc_dlx_clean = df_enc_dlx.rename_axis([\"class_type\", \"basket\"]).reset_index()\n",
    "df_cc_dlx_clean = df_cc_dlx.rename_axis([\"class_type\", \"basket\"]).reset_index()\n",
    "df_sc_dlx_clean = df_sc_dlx.rename_axis([\"class_type\", \"basket\"]).reset_index()\n",
    "result = pd.concat([df_enc_dlx_clean, df_cc_dlx_clean, df_sc_dlx_clean])\n",
    "\n",
    "print(result)\n",
    "\n",
    "print(\"\\nCheck\")\n",
    "print(result.groupby(\"class_type\").agg({\"count\": \"sum\"}))\n",
    "print(f\"should be the same with -> {num_dlx_ac}\")"
   ]
  },
  {
   "cell_type": "code",
   "execution_count": 47,
   "metadata": {},
   "outputs": [
    {
     "name": "stdout",
     "output_type": "stream",
     "text": [
      "           0      1    2-3    >=4\n",
      "count  466.0  197.0  182.0  339.0\n",
      "perc    39.0   17.0   15.0   29.0\n",
      "\n",
      "Check\n",
      "count    1184.0\n",
      "perc      100.0\n",
      "dtype: float64\n",
      "should be the same with -> 1184\n"
     ]
    }
   ],
   "source": [
    "result = df_incenter.transpose()\n",
    "print(result)\n",
    "\n",
    "print(\"\\nCheck\")\n",
    "\n",
    "print(result.sum(axis=1))\n",
    "print(f\"should be the same with -> {num_dlx_ac}\")"
   ]
  },
  {
   "cell_type": "code",
   "execution_count": 48,
   "metadata": {},
   "outputs": [
    {
     "data": {
      "text/html": [
       "<div>\n",
       "<style scoped>\n",
       "    .dataframe tbody tr th:only-of-type {\n",
       "        vertical-align: middle;\n",
       "    }\n",
       "\n",
       "    .dataframe tbody tr th {\n",
       "        vertical-align: top;\n",
       "    }\n",
       "\n",
       "    .dataframe thead th {\n",
       "        text-align: right;\n",
       "    }\n",
       "</style>\n",
       "<table border=\"1\" class=\"dataframe\">\n",
       "  <thead>\n",
       "    <tr style=\"text-align: right;\">\n",
       "      <th>class_type_grouped</th>\n",
       "      <th>Online One-on-one</th>\n",
       "      <th>One-on-one</th>\n",
       "      <th>Online VPG</th>\n",
       "      <th>VPG</th>\n",
       "    </tr>\n",
       "  </thead>\n",
       "  <tbody>\n",
       "    <tr>\n",
       "      <th>count</th>\n",
       "      <td>376</td>\n",
       "      <td>413</td>\n",
       "      <td>125</td>\n",
       "      <td>56</td>\n",
       "    </tr>\n",
       "    <tr>\n",
       "      <th>group</th>\n",
       "      <td>1:1</td>\n",
       "      <td>1:1</td>\n",
       "      <td>VPG</td>\n",
       "      <td>VPG</td>\n",
       "    </tr>\n",
       "    <tr>\n",
       "      <th>perc</th>\n",
       "      <td>48.0</td>\n",
       "      <td>52.0</td>\n",
       "      <td>69.0</td>\n",
       "      <td>31.0</td>\n",
       "    </tr>\n",
       "  </tbody>\n",
       "</table>\n",
       "</div>"
      ],
      "text/plain": [
       "class_type_grouped Online One-on-one One-on-one Online VPG   VPG\n",
       "count                            376        413        125    56\n",
       "group                            1:1        1:1        VPG   VPG\n",
       "perc                            48.0       52.0       69.0  31.0"
      ]
     },
     "execution_count": 48,
     "metadata": {},
     "output_type": "execute_result"
    }
   ],
   "source": [
    "result = df_vip_basket.transpose()[\n",
    "    [\"Online One-on-one\", \"One-on-one\", \"Online VPG\", \"VPG\"]\n",
    "]\n",
    "result"
   ]
  },
  {
   "cell_type": "code",
   "execution_count": 49,
   "metadata": {},
   "outputs": [
    {
     "name": "stdout",
     "output_type": "stream",
     "text": [
      "      count   perc\n",
      "group             \n",
      "1:1     789  100.0\n",
      "VPG     181  100.0\n",
      "\n",
      "should be the same with                     count\n",
      "class_type_grouped       \n",
      "One-on-one            789\n",
      "VPG                   181\n"
     ]
    }
   ],
   "source": [
    "print(result.transpose().groupby(\"group\").sum())\n",
    "\n",
    "print(f\"\\nshould be the same with {df_vip}\")"
   ]
  },
  {
   "cell_type": "markdown",
   "metadata": {},
   "source": [
    "# Venn Diagram"
   ]
  },
  {
   "cell_type": "code",
   "execution_count": 50,
   "metadata": {},
   "outputs": [
    {
     "name": "stdout",
     "output_type": "stream",
     "text": [
      "(1915, 2)\n"
     ]
    },
    {
     "data": {
      "text/html": [
       "<div>\n",
       "<style scoped>\n",
       "    .dataframe tbody tr th:only-of-type {\n",
       "        vertical-align: middle;\n",
       "    }\n",
       "\n",
       "    .dataframe tbody tr th {\n",
       "        vertical-align: top;\n",
       "    }\n",
       "\n",
       "    .dataframe thead th {\n",
       "        text-align: right;\n",
       "    }\n",
       "</style>\n",
       "<table border=\"1\" class=\"dataframe\">\n",
       "  <thead>\n",
       "    <tr style=\"text-align: right;\">\n",
       "      <th></th>\n",
       "      <th>student_code</th>\n",
       "      <th>class_attended</th>\n",
       "    </tr>\n",
       "  </thead>\n",
       "  <tbody>\n",
       "    <tr>\n",
       "      <th>0</th>\n",
       "      <td>( VIP HO FROM P. CYNTHIA PARAMITHA SIMAMORA) R...</td>\n",
       "      <td>Online Encounter, Online English Corner, Onlin...</td>\n",
       "    </tr>\n",
       "    <tr>\n",
       "      <th>1</th>\n",
       "      <td>(DLX BSD HO FROM INDRA GUNAWAN CHANDRA) ALETHA...</td>\n",
       "      <td>Online Encounter</td>\n",
       "    </tr>\n",
       "    <tr>\n",
       "      <th>2</th>\n",
       "      <td>(DLX BSD) KARISA - 10378</td>\n",
       "      <td>Online Complementary, Online Complementary, On...</td>\n",
       "    </tr>\n",
       "    <tr>\n",
       "      <th>3</th>\n",
       "      <td>(DLX BSD) NELA - 10452</td>\n",
       "      <td>Social Club, Social Club, Social Club, Social ...</td>\n",
       "    </tr>\n",
       "    <tr>\n",
       "      <th>4</th>\n",
       "      <td>(DLX BSD) VENDRA - 10386</td>\n",
       "      <td>Online Encounter</td>\n",
       "    </tr>\n",
       "  </tbody>\n",
       "</table>\n",
       "</div>"
      ],
      "text/plain": [
       "                                        student_code  \\\n",
       "0  ( VIP HO FROM P. CYNTHIA PARAMITHA SIMAMORA) R...   \n",
       "1  (DLX BSD HO FROM INDRA GUNAWAN CHANDRA) ALETHA...   \n",
       "2                           (DLX BSD) KARISA - 10378   \n",
       "3                             (DLX BSD) NELA - 10452   \n",
       "4                           (DLX BSD) VENDRA - 10386   \n",
       "\n",
       "                                      class_attended  \n",
       "0  Online Encounter, Online English Corner, Onlin...  \n",
       "1                                   Online Encounter  \n",
       "2  Online Complementary, Online Complementary, On...  \n",
       "3  Social Club, Social Club, Social Club, Social ...  \n",
       "4                                   Online Encounter  "
      ]
     },
     "execution_count": 50,
     "metadata": {},
     "output_type": "execute_result"
    }
   ],
   "source": [
    "class_per_student = (\n",
    "    df_att.sort_values([\"student_code\", \"class_type\"])\n",
    "    .groupby(\"student_code\")\n",
    "    .agg(class_attended=(\"class_type\", lambda x: \", \".join(x)))\n",
    "    .reset_index()\n",
    ")\n",
    "print(class_per_student.shape)\n",
    "class_per_student.head()"
   ]
  },
  {
   "cell_type": "code",
   "execution_count": 51,
   "metadata": {},
   "outputs": [],
   "source": [
    "enc_only = (class_per_student\n",
    "    .loc[\n",
    "        class_per_student['class_attended'].isin(['Encounter', 'Online Encounter'])\n",
    "    ]\n",
    ")\n",
    "\n",
    "non_enc_only = (class_per_student\n",
    "    .loc[\n",
    "        ~(class_per_student['class_attended'].str.lower().str.contains('encounter'))\n",
    "    ]\n",
    ")\n",
    "\n",
    "good_member = (class_per_student\n",
    "    .loc[\n",
    "        (class_per_student['class_attended'].str.lower().str.contains('encounter')) &\\\n",
    "        (class_per_student['class_attended'].str.lower().str.contains(','))\n",
    "    ]\n",
    ")"
   ]
  },
  {
   "cell_type": "code",
   "execution_count": 52,
   "metadata": {},
   "outputs": [
    {
     "name": "stdout",
     "output_type": "stream",
     "text": [
      "without CPT = True\n",
      "\n",
      "num member: 4016.0\n",
      "\n",
      "class active: 1915, should be the same with -> 1915\n",
      "perc class active :  48%\n",
      "\n",
      "non-enc only : 698 -  17%\n",
      "good member : 976 -  24%\n",
      "enc only : 241 -  6%\n",
      "dormant : 2101.0 -  52%\n"
     ]
    }
   ],
   "source": [
    "enc_only_count = enc_only.shape[0]\n",
    "non_enc_only_count = non_enc_only.shape[0]\n",
    "good_member_count = good_member.shape[0]\n",
    "\n",
    "class_active = enc_only_count + non_enc_only_count + good_member_count\n",
    "perc_class_active = class_active / num_member\n",
    "dormant = num_member - class_active\n",
    "perc_dormant = dormant / num_member\n",
    "\n",
    "perc_enc_only = enc_only_count / num_member\n",
    "perc_non_enc_only = non_enc_only_count / num_member\n",
    "perc_good_member = good_member_count / num_member\n",
    "\n",
    "print(f\"without CPT = {config.exclude_cpt}\\n\")\n",
    "\n",
    "print(f\"num member: {num_member}\")\n",
    "print(\n",
    "    f\"\\nclass active: {class_active}, should be the same with -> {num_go_ac + num_dlx_ac + num_vip_ac}\"\n",
    ")\n",
    "print(f\"perc class active : {perc_class_active: .0%}\\n\")\n",
    "\n",
    "print(f\"non-enc only : {non_enc_only_count} - {perc_non_enc_only: .0%}\")\n",
    "print(f\"good member : {good_member_count} - {perc_good_member: .0%}\")\n",
    "print(f\"enc only : {enc_only_count} - {perc_enc_only: .0%}\")\n",
    "print(f\"dormant : {dormant} - {perc_dormant: .0%}\")"
   ]
  },
  {
   "cell_type": "code",
   "execution_count": 53,
   "metadata": {},
   "outputs": [],
   "source": [
    "# from matplotlib_venn import venn2\n",
    "# from matplotlib import pyplot as plt\n",
    "\n",
    "# # depict venn diagram\n",
    "# venn2(subsets = (round(perc_non_enc_only, 2), round(perc_enc_only, 2), round(perc_good_member, 2)), set_labels = ('Non-ENC', 'ENC'))\n",
    "# plt.show()"
   ]
  },
  {
   "attachments": {},
   "cell_type": "markdown",
   "metadata": {},
   "source": [
    "# Experiment"
   ]
  },
  {
   "cell_type": "code",
   "execution_count": 54,
   "metadata": {},
   "outputs": [],
   "source": [
    "# (df_att\n",
    "#     .loc[\n",
    "#         df_att['class_type'] == 'Online Social Club'\n",
    "#     ]\n",
    "#     .groupby('student_code')\n",
    "#     .size()\n",
    "#     .mean()\n",
    "# )"
   ]
  },
  {
   "cell_type": "code",
   "execution_count": 55,
   "metadata": {},
   "outputs": [],
   "source": [
    "# # corp member\n",
    "# df_att.loc[df_att['student_code'].str.lower().str.contains('cpt')]"
   ]
  },
  {
   "cell_type": "code",
   "execution_count": 56,
   "metadata": {},
   "outputs": [],
   "source": [
    "# (df_att\n",
    "#     .groupby(['student_membership'])\n",
    "#     .agg(n= ('student_code', 'nunique'))\n",
    "# )"
   ]
  },
  {
   "cell_type": "code",
   "execution_count": 57,
   "metadata": {},
   "outputs": [],
   "source": [
    "# (df_att\n",
    "#     # .loc[(df_att['student_membership'] == 'GO') &\n",
    "#     #     (df_att['class_mode'] == 'Online') &\n",
    "#     #     (df_att['class_type'].isin(['Online Encounter','Online Complementary', 'Online Social Club'])) \n",
    "#     # ]\n",
    "#     # .groupby(['class_type', 'student_code'])\n",
    "#     # .agg(\n",
    "#     #     count= ('student_code', 'size')\n",
    "#     # )\n",
    "#     # .reset_index()\n",
    "# )"
   ]
  }
 ],
 "metadata": {
  "kernelspec": {
   "display_name": "data-science",
   "language": "python",
   "name": "python3"
  },
  "language_info": {
   "codemirror_mode": {
    "name": "ipython",
    "version": 3
   },
   "file_extension": ".py",
   "mimetype": "text/x-python",
   "name": "python",
   "nbconvert_exporter": "python",
   "pygments_lexer": "ipython3",
   "version": "3.11.5"
  },
  "orig_nbformat": 4,
  "vscode": {
   "interpreter": {
    "hash": "9dd074f66b91f55d64f6b161bcf13ae0bf5aaff7bb738860b205ca5c2c21bb30"
   }
  }
 },
 "nbformat": 4,
 "nbformat_minor": 2
}
